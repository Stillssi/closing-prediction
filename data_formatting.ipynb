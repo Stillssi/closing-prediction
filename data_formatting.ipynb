{
 "cells": [
  {
   "cell_type": "code",
   "execution_count": null,
   "metadata": {},
   "outputs": [],
   "source": [
    "import pandas as pd\n",
    "Active_data = pd.read_excel('액티브 중소법인 재무보유.xlsx')\n",
    "Close_data = pd.read_excel('휴폐업 중소법인 재무보유.xlsx')"
   ]
  },
  {
   "cell_type": "code",
   "execution_count": null,
   "metadata": {},
   "outputs": [],
   "source": [
    "a_train = Active_data.sample(n=500)\n",
    "c_train = Active_data.sample(n=500)"
   ]
  },
  {
   "cell_type": "code",
   "execution_count": null,
   "metadata": {},
   "outputs": [],
   "source": [
    "fin_data = pd.read_csv('finance.csv', encoding='euc-kr')"
   ]
  },
  {
   "cell_type": "code",
   "execution_count": null,
   "metadata": {},
   "outputs": [],
   "source": [
    "fin_data.head()"
   ]
  },
  {
   "cell_type": "code",
   "execution_count": null,
   "metadata": {},
   "outputs": [],
   "source": [
    "a_train['open'] = 1\n",
    "c_train['open'] = 0"
   ]
  },
  {
   "cell_type": "code",
   "execution_count": null,
   "metadata": {},
   "outputs": [],
   "source": [
    "c_train.head()"
   ]
  },
  {
   "cell_type": "code",
   "execution_count": null,
   "metadata": {},
   "outputs": [],
   "source": [
    "ac_train = a_train.append(c_train, ignore_index=True)"
   ]
  },
  {
   "cell_type": "code",
   "execution_count": null,
   "metadata": {},
   "outputs": [],
   "source": [
    "ac_train.describe()"
   ]
  },
  {
   "cell_type": "code",
   "execution_count": null,
   "metadata": {},
   "outputs": [],
   "source": [
    "fin_data.describe()"
   ]
  },
  {
   "cell_type": "code",
   "execution_count": null,
   "metadata": {},
   "outputs": [],
   "source": [
    "all_data = pd.merge(ac_train, fin_data, how='inner', on='BIZ_NO')\n",
    "all_data.head()"
   ]
  },
  {
   "cell_type": "code",
   "execution_count": null,
   "metadata": {},
   "outputs": [],
   "source": [
    "all_data.describe()"
   ]
  },
  {
   "cell_type": "code",
   "execution_count": null,
   "metadata": {},
   "outputs": [],
   "source": [
    "all_data = all_data.drop([\"BIZ_NO\",\n",
    "\"CMP_SCL\",\n",
    "\"PBCO_GB\",\n",
    "\"PSN_CORP_GB\",\n",
    "\"IND_CD_ORDR\",\n",
    "\"PB_ORG_TYP\",\n",
    "\"CMP_PFIX_NM\",\n",
    "'CMP_NM1',\n",
    "'CMP_ENM',\n",
    "'CMP_SFIX_NM',\n",
    "'LIST_CD',\n",
    "'무형자산',\n",
    "'BZ_TYP',\n",
    "'HDOF_BR_GB',\n",
    "'FR_IVST_CORP_YN',\n",
    "'VENT_YN',\n",
    "'IND_CD1','IND_CD2','IND_CD3',\n",
    "'MDSCO_PRTC_YN','HDOF_CMP_CD',\n",
    "'ESTB_DATE','ESTB_GB',\n",
    "'MN_BIZ_CONT','NATN_NM',\n",
    "'HOMEPAGE_URL','CEO_NM', \n",
    "'Unnamed: 0'], axis=1)\n"
   ]
  },
  {
   "cell_type": "code",
   "execution_count": null,
   "metadata": {},
   "outputs": [],
   "source": [
    "all_data = all_data.drop(['결산년월'],axis=1)"
   ]
  },
  {
   "cell_type": "code",
   "execution_count": null,
   "metadata": {},
   "outputs": [],
   "source": [
    "all_data.describe()"
   ]
  },
  {
   "cell_type": "code",
   "execution_count": null,
   "metadata": {},
   "outputs": [],
   "source": [
    "all_data.isna().sum()"
   ]
  },
  {
   "cell_type": "code",
   "execution_count": null,
   "metadata": {},
   "outputs": [],
   "source": [
    "train_isna_sum = all_data.isna().sum()\n",
    "na_columns = train_isna_sum[train_isna_sum !=0].index\n",
    "\n",
    "for col in na_columns:\n",
    "    if all_data[col].isna().sum() >= 1000:\n",
    "        all_data = all_data.drop([col], axis=1)"
   ]
  },
  {
   "cell_type": "code",
   "execution_count": null,
   "metadata": {},
   "outputs": [],
   "source": [
    "def fill_bicycle_na(df, column):\n",
    "    df[column] = df[column].fillna(value=df[column].mean())\n",
    "\n",
    "for col in na_columns:\n",
    "    try:\n",
    "        fill_bicycle_na(all_data, col)\n",
    "        print(col, '결측값 완료')\n",
    "    except:\n",
    "        pass"
   ]
  },
  {
   "cell_type": "code",
   "execution_count": null,
   "metadata": {},
   "outputs": [],
   "source": [
    "import seaborn as sns\n",
    "sns.heatmap(all_data.corr(), annot=True)"
   ]
  },
  {
   "cell_type": "code",
   "execution_count": null,
   "metadata": {},
   "outputs": [],
   "source": []
  }
 ],
 "metadata": {
  "kernelspec": {
   "display_name": "Python 3.10.4 ('study')",
   "language": "python",
   "name": "python3"
  },
  "language_info": {
   "codemirror_mode": {
    "name": "ipython",
    "version": 3
   },
   "file_extension": ".py",
   "mimetype": "text/x-python",
   "name": "python",
   "nbconvert_exporter": "python",
   "pygments_lexer": "ipython3",
   "version": "3.10.4"
  },
  "orig_nbformat": 4,
  "vscode": {
   "interpreter": {
    "hash": "6db2f3abba949d3272d30621feaf45d6fc6a29eb863b33b0d60c0925d8592697"
   }
  }
 },
 "nbformat": 4,
 "nbformat_minor": 2
}
