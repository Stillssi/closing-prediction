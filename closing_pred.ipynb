{
 "cells": [
  {
   "cell_type": "code",
   "execution_count": null,
   "metadata": {},
   "outputs": [],
   "source": [
    "import pandas as pd\n",
    "finance_df = pd.read_excel('재무데이터.xlsx')\n",
    "finance_df.head(3)"
   ]
  },
  {
   "cell_type": "code",
   "execution_count": null,
   "metadata": {},
   "outputs": [],
   "source": [
    "# pd.options.display.float_format = '{: .5f}'.format\n",
    "pd.reset_option('display.float_format')"
   ]
  },
  {
   "cell_type": "code",
   "execution_count": null,
   "metadata": {},
   "outputs": [],
   "source": [
    "finance_df.rename(columns={'사업자번호': 'BIZ_NO'}, inplace=True)"
   ]
  },
  {
   "cell_type": "code",
   "execution_count": null,
   "metadata": {},
   "outputs": [],
   "source": [
    "fin_df = finance_df"
   ]
  },
  {
   "cell_type": "code",
   "execution_count": null,
   "metadata": {},
   "outputs": [],
   "source": [
    "fin_df['결산년월']= fin_df['결산년월'].astype('str')\n",
    "fin_df['결산년월'] = pd.to_datetime(fin_df['결산년월'], format='%Y-%m-%d', errors='raise')"
   ]
  },
  {
   "cell_type": "code",
   "execution_count": null,
   "metadata": {},
   "outputs": [],
   "source": [
    "fin_df['결산년월']"
   ]
  },
  {
   "cell_type": "code",
   "execution_count": null,
   "metadata": {},
   "outputs": [],
   "source": [
    "fin_df['year'] = fin_df.결산년월.apply(lambda x: x.year)\n",
    "fin_df['year']"
   ]
  },
  {
   "cell_type": "code",
   "execution_count": null,
   "metadata": {},
   "outputs": [],
   "source": [
    "fin = fin_df[['BIZ_NO','year','유보액/총자산(%)', '기업순이익률(%)','매출액순이익률(%)','차입금의존도(%)','부채총계대 매출액(%)']]"
   ]
  },
  {
   "cell_type": "code",
   "execution_count": null,
   "metadata": {},
   "outputs": [],
   "source": [
    "fin.head()"
   ]
  },
  {
   "cell_type": "code",
   "execution_count": null,
   "metadata": {},
   "outputs": [],
   "source": [
    "active_df = pd.read_excel('액티브 중소법인 재무보유.xlsx')\n",
    "close_df = pd.read_excel('휴폐업 중소법인 재무보유.xlsx')"
   ]
  },
  {
   "cell_type": "code",
   "execution_count": null,
   "metadata": {},
   "outputs": [],
   "source": [
    "active_df['open'] = 0\n",
    "close_df['open'] = 1"
   ]
  },
  {
   "cell_type": "code",
   "execution_count": null,
   "metadata": {},
   "outputs": [],
   "source": [
    "close_df.describe()\n"
   ]
  },
  {
   "cell_type": "code",
   "execution_count": null,
   "metadata": {},
   "outputs": [],
   "source": [
    "all_data = active_df.append(close_df,ignore_index=True)\n",
    "all_data"
   ]
  },
  {
   "cell_type": "code",
   "execution_count": null,
   "metadata": {},
   "outputs": [],
   "source": [
    "all_data.describe()"
   ]
  },
  {
   "cell_type": "code",
   "execution_count": null,
   "metadata": {},
   "outputs": [],
   "source": [
    "all_data = all_data[['BIZ_NO', 'BZ_TYP','VENT_YN','MDSCO_PRTC_YN','ESTB_DATE','EMP_CNT','open']]\n",
    "all_data"
   ]
  },
  {
   "cell_type": "code",
   "execution_count": null,
   "metadata": {},
   "outputs": [],
   "source": [
    "all_data = pd.merge(all_data, fin, how='outer', on='BIZ_NO')"
   ]
  },
  {
   "cell_type": "code",
   "execution_count": null,
   "metadata": {},
   "outputs": [],
   "source": [
    "all_data"
   ]
  },
  {
   "cell_type": "code",
   "execution_count": null,
   "metadata": {},
   "outputs": [],
   "source": [
    "all_data.isna().sum()"
   ]
  },
  {
   "cell_type": "code",
   "execution_count": null,
   "metadata": {},
   "outputs": [],
   "source": [
    "all_data['ESTB_DATE'].dropna(axis=0)"
   ]
  },
  {
   "cell_type": "code",
   "execution_count": null,
   "metadata": {},
   "outputs": [],
   "source": [
    "mask = all_data['ESTB_DATE'].isin(['-9223372036854775808'])\n",
    "all_data = all_data[~mask]"
   ]
  },
  {
   "cell_type": "code",
   "execution_count": null,
   "metadata": {},
   "outputs": [],
   "source": [
    "all_data['ESTB_DATE']= all_data['ESTB_DATE'].astype('str')\n",
    "all_data['ESTB_DATE'] = pd.to_datetime(all_data['ESTB_DATE'],format='%Y%m%d', errors='raise')"
   ]
  },
  {
   "cell_type": "code",
   "execution_count": null,
   "metadata": {},
   "outputs": [],
   "source": [
    "all_data['ESTB_DATE'].info()"
   ]
  },
  {
   "cell_type": "code",
   "execution_count": null,
   "metadata": {},
   "outputs": [],
   "source": [
    "all_data['ESTB_year'] =all_data.ESTB_DATE.apply(lambda x: x.year)\n",
    "all_data.drop(['ESTB_DATE'], axis=1, inplace=True)"
   ]
  },
  {
   "cell_type": "code",
   "execution_count": null,
   "metadata": {},
   "outputs": [],
   "source": [
    "all_data['ESTB_year']\n",
    "all_data"
   ]
  },
  {
   "cell_type": "code",
   "execution_count": null,
   "metadata": {},
   "outputs": [],
   "source": [
    "all_data.drop(['BIZ_NO'], axis=1, inplace=True)\n",
    "all_data"
   ]
  },
  {
   "cell_type": "code",
   "execution_count": null,
   "metadata": {},
   "outputs": [],
   "source": [
    "all_data['ESTB_year']= all_data['ESTB_year'].astype('str')\n",
    "all_data['year'] = all_data['year'].astype('str')"
   ]
  },
  {
   "cell_type": "code",
   "execution_count": null,
   "metadata": {},
   "outputs": [],
   "source": [
    "all_data.info()"
   ]
  },
  {
   "cell_type": "code",
   "execution_count": null,
   "metadata": {},
   "outputs": [],
   "source": [
    "all_data.isna().sum()"
   ]
  },
  {
   "cell_type": "code",
   "execution_count": null,
   "metadata": {},
   "outputs": [],
   "source": [
    "train_isna_sum = all_data.isna().sum()\n",
    "train_isna_sum[train_isna_sum != 0].index\n",
    "na_columns = train_isna_sum[train_isna_sum != 0].index\n",
    "\n",
    "def fill_bicycle_na(df, column):\n",
    "    df[column] = df[column].fillna(value = df[column].mean())\n",
    "\n",
    "for col in na_columns:\n",
    "    fill_bicycle_na(all_data, col)\n",
    "    print(col, '결측값 대체 완료')"
   ]
  },
  {
   "cell_type": "code",
   "execution_count": null,
   "metadata": {},
   "outputs": [],
   "source": [
    "all_data_ohe = pd.get_dummies(all_data, columns=['BZ_TYP', 'VENT_YN', 'year','MDSCO_PRTC_YN','ESTB_year'])"
   ]
  },
  {
   "cell_type": "code",
   "execution_count": null,
   "metadata": {},
   "outputs": [],
   "source": [
    "all_data_ohe.drop(['ESTB_year_nan','year_nan'], axis=1, inplace=True)"
   ]
  },
  {
   "cell_type": "code",
   "execution_count": null,
   "metadata": {},
   "outputs": [],
   "source": [
    "all_data_ohe"
   ]
  },
  {
   "cell_type": "code",
   "execution_count": null,
   "metadata": {},
   "outputs": [],
   "source": [
    "from tkinter.font import families\n",
    "import matplotlib as mpl\n",
    "import matplotlib.pyplot as plt\n",
    "import matplotlib.font_manager as fm\n",
    "\n",
    "plt.rcParams['axes.unicode_minus'] = False\n",
    "plt.rc('font', family='AppleGothic')\n",
    "all_data_ohe.boxplot(column=['유보액/총자산(%)','기업순이익률(%)','매출액순이익률(%)','차입금의존도(%)','부채총계대 매출액(%)'])"
   ]
  },
  {
   "cell_type": "code",
   "execution_count": null,
   "metadata": {},
   "outputs": [],
   "source": [
    "all_data_ohe[['유보액/총자산(%)','기업순이익률(%)','매출액순이익률(%)','차입금의존도(%)','부채총계대 매출액(%)']].info()"
   ]
  },
  {
   "cell_type": "markdown",
   "metadata": {},
   "source": [
    "## 이상치 제거"
   ]
  },
  {
   "cell_type": "code",
   "execution_count": null,
   "metadata": {},
   "outputs": [],
   "source": [
    "q3 = all_data_ohe.quantile(0.75) # df['국어'].quantile(0.75) 처럼 특정 열만 적용 가능\n",
    "q1 = all_data_ohe.quantile(0.25)\n",
    "\n",
    "iqr = q3 - q1"
   ]
  },
  {
   "cell_type": "code",
   "execution_count": null,
   "metadata": {},
   "outputs": [],
   "source": [
    "# '국어' 열에 대하여 이상치 여부를 판별해주는 함수\n",
    "columns = ['유보액/총자산(%)','기업순이익률(%)','매출액순이익률(%)','차입금의존도(%)','부채총계대 매출액(%)']\n",
    "\n",
    "def is_kor_outlier(df):\n",
    "    kor_score = df['차입금의존도(%)']\n",
    "    if kor_score > q3['차입금의존도(%)'] + 1.5 * iqr['차입금의존도(%)'] or kor_score < q1['차입금의존도(%)'] - 1.5 * iqr['차입금의존도(%)']:\n",
    "        return True\n",
    "    else:\n",
    "        return False\n",
    "\n",
    "# apply 함수를 통하여 각 값의 이상치 여부를 찾고 새로운 열에 결과 저장\n",
    "all_data_ohe['차입금의존도(%)_이상치여부'] = all_data_ohe.apply(is_kor_outlier, axis = 1) # axis = 1 지정 필수\n",
    "\n",
    "all_data_ohe"
   ]
  },
  {
   "cell_type": "code",
   "execution_count": null,
   "metadata": {},
   "outputs": [],
   "source": [
    "df_trim = all_data_ohe.loc[all_data_ohe['유보액/총자산(%)_이상치여부'] == False]\n",
    "df_trim = df_trim.loc[df_trim['기업순이익률(%)_이상치여부'] == False]\n",
    "\n",
    "df_trim = df_trim.loc[df_trim['매출액순이익률(%)_이상치여부'] == False]\n",
    "df_trim = df_trim.loc[df_trim['차입금의존도(%)_이상치여부'] == False]\n",
    "df_trim = df_trim.loc[df_trim['부채총계대 매출액(%)_이상치여부'] == False]\n",
    "\n",
    "df_trim.drop(['유보액/총자산(%)_이상치여부','기업순이익률(%)_이상치여부','매출액순이익률(%)_이상치여부','차입금의존도(%)_이상치여부','부채총계대 매출액(%)_이상치여부'], axis=1, inplace=True)\n",
    "\n",
    "all_data_ohe = df_trim"
   ]
  },
  {
   "cell_type": "code",
   "execution_count": null,
   "metadata": {},
   "outputs": [],
   "source": [
    "all_data_ohe"
   ]
  },
  {
   "cell_type": "code",
   "execution_count": null,
   "metadata": {},
   "outputs": [],
   "source": [
    "from tkinter.font import families\n",
    "import matplotlib as mpl\n",
    "import matplotlib.pyplot as plt\n",
    "import matplotlib.font_manager as fm\n",
    "\n",
    "plt.rcParams['axes.unicode_minus'] = False\n",
    "plt.rc('font', family='AppleGothic')\n",
    "all_data_ohe.boxplot(column=['유보액/총자산(%)','기업순이익률(%)','매출액순이익률(%)','차입금의존도(%)','부채총계대 매출액(%)'])"
   ]
  },
  {
   "cell_type": "markdown",
   "metadata": {},
   "source": [
    "## 앙상블 학습"
   ]
  },
  {
   "cell_type": "code",
   "execution_count": null,
   "metadata": {},
   "outputs": [],
   "source": [
    "from sklearn.metrics import accuracy_score, precision_score, recall_score, confusion_matrix\n",
    "from sklearn.metrics import f1_score\n",
    "from sklearn.metrics import roc_auc_score\n",
    "\n",
    "def get_clf_eval(y_test, pred=None, pred_proba=None):\n",
    "    confusion = confusion_matrix(y_test, pred)\n",
    "    accuracy = accuracy_score(y_test, pred)\n",
    "    precision = precision_score(y_test, pred)\n",
    "    recall = recall_score(y_test, pred)\n",
    "    roc_auc = roc_auc_score(y_test, pred_proba)\n",
    "    f1 = f1_score(y_test, pred)\n",
    "    \n",
    "    print('오차행렬')\n",
    "    print(confusion)\n",
    "    print('정확도: {0:.4f}, 정밀도:{1: .4f}, 재현율:{2: .4f}, f1점수: {3: .4f}'.format(accuracy, precision, recall, f1))\n",
    "    print('AUC점수:{0: .4f}'.format(roc_auc))"
   ]
  },
  {
   "cell_type": "code",
   "execution_count": null,
   "metadata": {},
   "outputs": [],
   "source": [
    "from sklearn.ensemble import VotingClassifier\n",
    "from sklearn.linear_model import LogisticRegression\n",
    "from sklearn.model_selection import train_test_split\n",
    "from sklearn.metrics import accuracy_score\n",
    "from sklearn.neighbors import KNeighborsClassifier\n",
    "\n",
    "lr_clf = LogisticRegression(solver='liblinear')\n",
    "knn_clf = KNeighborsClassifier(n_neighbors=8)\n",
    "\n",
    "vo_clf = VotingClassifier(estimators=[('LR', lr_clf),('KNN', knn_clf)], voting='soft')\n",
    "X_target = all_data_ohe['open']\n",
    "X_features = all_data_ohe.drop(['open'], axis=1, inplace=False)\n",
    "\n",
    "X_train, X_test, y_train, y_test = train_test_split(X_features, X_target, test_size=0.3, random_state=0)\n",
    "\n",
    "vo_clf.fit(X_train, y_train)\n",
    "pred = vo_clf.predict(X_test)\n",
    "pred_proba = vo_clf.predict_proba(X_test)[:,1]\n",
    "print('Voting 분류기 정확도:{0: .4f}'.format(accuracy_score(y_test, pred)))\n",
    "get_clf_eval(y_test, pred, pred_proba)"
   ]
  },
  {
   "cell_type": "code",
   "execution_count": null,
   "metadata": {},
   "outputs": [],
   "source": [
    "knn_clf = KNeighborsClassifier(n_neighbors=8)\n",
    "knn_clf.fit(X_train, y_train)\n",
    "knn_pred = knn_clf.predict(X_test)\n",
    "knn_pred_proba = knn_clf.predict_proba(X_test)[:,1]\n",
    "print('Voting 분류기 정확도:{0: .4f}'.format(accuracy_score(y_test, knn_pred)))\n",
    "get_clf_eval(y_test, knn_pred, knn_pred_proba)"
   ]
  },
  {
   "cell_type": "markdown",
   "metadata": {},
   "source": [
    "## 책따라(신용카드 사기 검출)"
   ]
  },
  {
   "cell_type": "code",
   "execution_count": null,
   "metadata": {},
   "outputs": [],
   "source": [
    "y_target = all_data_ohe['open']\n",
    "X_features = all_data_ohe.drop(['open'], axis=1, inplace=False)\n",
    "\n",
    "X_train, X_test, y_train, y_test = train_test_split(X_features, y_target, test_size=0.3, random_state=0, stratify=X_target)\n",
    "\n",
    "print('학습 데이터 레이블 값 비율')\n",
    "print(y_train.value_counts()/y_train.count())\n",
    "print('테스트 데이터 비율')\n",
    "print(y_test.value_counts()/y_test.count())"
   ]
  },
  {
   "cell_type": "code",
   "execution_count": null,
   "metadata": {},
   "outputs": [],
   "source": [
    "def get_model_train_eval(model, ftr_train=None, ftr_test=None, tgt_train=None, tgt_test=None):\n",
    "    model.fit(ftr_train, tgt_train)\n",
    "    pred = model.predict(ftr_test)\n",
    "    pred_proba = model.predict_proba(ftr_test)[:, 1]\n",
    "    get_clf_eval(tgt_test, pred)"
   ]
  },
  {
   "cell_type": "code",
   "execution_count": null,
   "metadata": {},
   "outputs": [],
   "source": [
    "all_data_ohe.dropna(axis=0)"
   ]
  },
  {
   "cell_type": "code",
   "execution_count": null,
   "metadata": {},
   "outputs": [],
   "source": [
    "all_data_ohe.describe()"
   ]
  },
  {
   "cell_type": "code",
   "execution_count": null,
   "metadata": {},
   "outputs": [],
   "source": [
    "from lightgbm import LGBMClassifier\n",
    "lgbm_clf = LGBMClassifier(n_estimators=1000, num_leaves=64, n_jobs=-1, boost_from_average=False)\n",
    "lgbm_clf.fit(X_train, y_train)\n",
    "lgbm_pred = lgbm_clf.predict(X_test)\n",
    "lgbm_pred_proba = lgbm_clf.predict_proba(X_test)[:,1]\n",
    "get_clf_eval(y_test, lgbm_pred, lgbm_pred_proba)\n",
    "\n",
    "# get_model_train_eval(lgbm_clf, ftr_train=X_train, ftr_test=X_test, tgt_train=y_train, tgt_test=y_test)"
   ]
  },
  {
   "cell_type": "code",
   "execution_count": null,
   "metadata": {},
   "outputs": [],
   "source": [
    "import seaborn as sns\n",
    "import matplotlib.pyplot as plt\n",
    "\n",
    "plt.figure(figsize=(8,4))\n",
    "# plt.xticks(range(0,30000, 1000), rotation=60)\n",
    "sns.histplot(all_data_ohe['매출액순이익률(%)'], bins=100, kde=True)\n",
    "plt.show()"
   ]
  },
  {
   "cell_type": "code",
   "execution_count": null,
   "metadata": {},
   "outputs": [],
   "source": []
  }
 ],
 "metadata": {
  "kernelspec": {
   "display_name": "Python 3.9.12 ('base')",
   "language": "python",
   "name": "python3"
  },
  "language_info": {
   "codemirror_mode": {
    "name": "ipython",
    "version": 3
   },
   "file_extension": ".py",
   "mimetype": "text/x-python",
   "name": "python",
   "nbconvert_exporter": "python",
   "pygments_lexer": "ipython3",
   "version": "3.9.12"
  },
  "orig_nbformat": 4,
  "vscode": {
   "interpreter": {
    "hash": "c65fd6502b3330fa03fc67e76fa9fe1b03f85e990f5924fb7f950a8faecf01bf"
   }
  }
 },
 "nbformat": 4,
 "nbformat_minor": 2
}
